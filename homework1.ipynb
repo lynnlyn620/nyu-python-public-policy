{
  "nbformat": 4,
  "nbformat_minor": 0,
  "metadata": {
    "colab": {
      "name": "homework1.ipynb",
      "provenance": []
    },
    "kernelspec": {
      "name": "python3",
      "display_name": "Python 3"
    }
  },
  "cells": [
    {
      "cell_type": "code",
      "metadata": {
        "id": "ZGLUKwnvF_MV",
        "colab_type": "code",
        "outputId": "ee4c8020-ab8b-407d-f27d-5c108e77f91d",
        "colab": {
          "base_uri": "https://localhost:8080/",
          "height": 189
        }
      },
      "source": [
        "import pandas as pd\n",
        "from google.colab import drive\n",
        "drive.mount('/content/drive')"
      ],
      "execution_count": 3,
      "outputs": [
        {
          "output_type": "stream",
          "text": [
            "Go to this URL in a browser: https://accounts.google.com/o/oauth2/auth?client_id=947318989803-6bn6qk8qdgf4n4g3pfee6491hc0brc4i.apps.googleusercontent.com&redirect_uri=urn%3Aietf%3Awg%3Aoauth%3A2.0%3Aoob&scope=email%20https%3A%2F%2Fwww.googleapis.com%2Fauth%2Fdocs.test%20https%3A%2F%2Fwww.googleapis.com%2Fauth%2Fdrive%20https%3A%2F%2Fwww.googleapis.com%2Fauth%2Fdrive.photos.readonly%20https%3A%2F%2Fwww.googleapis.com%2Fauth%2Fpeopleapi.readonly&response_type=code\n",
            "\n",
            "Enter your authorization code:\n",
            "··········\n",
            "Mounted at /content/drive\n"
          ],
          "name": "stdout"
        }
      ]
    },
    {
      "cell_type": "code",
      "metadata": {
        "id": "B79h5PnQMOnf",
        "colab_type": "code",
        "outputId": "e829d6c2-72a6-41e0-9223-78177e174cc8",
        "colab": {
          "base_uri": "https://localhost:8080/",
          "height": 111
        }
      },
      "source": [
        "# a subset of the NYC 311 data is uploaded to google drive for you at this file path\n",
        "  # we'll use pandas to open the csv file and save it as a dataframe called 'df'\n",
        "# what's a dataframe?\n",
        "# what is \"df\"? you can name it whatever you want, but many developers use \"df\"\n",
        "df = pd.read_csv('/content/drive/My Drive/Data for Python/311_Service_Requests_2018-19.csv', header='infer')"
      ],
      "execution_count": 4,
      "outputs": [
        {
          "output_type": "stream",
          "text": [
            "/usr/local/lib/python3.6/dist-packages/IPython/core/interactiveshell.py:2718: DtypeWarning: Columns (8,17,20,31,34) have mixed types. Specify dtype option on import or set low_memory=False.\n",
            "  interactivity=interactivity, compiler=compiler, result=result)\n"
          ],
          "name": "stderr"
        }
      ]
    },
    {
      "cell_type": "markdown",
      "metadata": {
        "id": "yX3qqFzM_8t4",
        "colab_type": "text"
      },
      "source": [
        "what is the minimum value in the 'created date'column?"
      ]
    },
    {
      "cell_type": "code",
      "metadata": {
        "id": "tabm7Lj3TQHL",
        "colab_type": "code",
        "outputId": "9af8d5f0-54e5-4c1d-eb73-00e2447ba958",
        "colab": {
          "base_uri": "https://localhost:8080/",
          "height": 51
        }
      },
      "source": [
        "df['Created Date'].head(1)"
      ],
      "execution_count": 7,
      "outputs": [
        {
          "output_type": "execute_result",
          "data": {
            "text/plain": [
              "0    08/01/2018 12:00:10 AM\n",
              "Name: Created Date, dtype: object"
            ]
          },
          "metadata": {
            "tags": []
          },
          "execution_count": 7
        }
      ]
    },
    {
      "cell_type": "markdown",
      "metadata": {
        "id": "YB9qHG6WAYfa",
        "colab_type": "text"
      },
      "source": [
        "what is the maximum value in the 'created date'column?"
      ]
    },
    {
      "cell_type": "code",
      "metadata": {
        "id": "_bVLdWjLT0Ym",
        "colab_type": "code",
        "outputId": "8d4133d9-1ffb-4c42-b80a-4876e70d04ce",
        "colab": {
          "base_uri": "https://localhost:8080/",
          "height": 51
        }
      },
      "source": [
        "df['Created Date'].tail(1) "
      ],
      "execution_count": 6,
      "outputs": [
        {
          "output_type": "execute_result",
          "data": {
            "text/plain": [
              "2859199    08/24/2019 02:00:56 AM\n",
              "Name: Created Date, dtype: object"
            ]
          },
          "metadata": {
            "tags": []
          },
          "execution_count": 6
        }
      ]
    },
    {
      "cell_type": "markdown",
      "metadata": {
        "id": "h-h97KVqUGbJ",
        "colab_type": "text"
      },
      "source": [
        "Create a text cell where you will briefly discuss the min and max results: does anything about the resulting min and max values surprise you? What do think causes this?\n",
        "\n",
        "At first, I try to use the max() and min() function from the tutorials. However, it can only compare in the same year. so I use the tail and head functions and I input 1 in the () to make sure that it is the first and last data in the created date column. "
      ]
    },
    {
      "cell_type": "markdown",
      "metadata": {
        "id": "eZpy2Kh1F6O-",
        "colab_type": "text"
      },
      "source": [
        "Create another text cell and write at least 1 question you have from doing the tutorials.\n",
        "\n",
        "For Boolean objects, what is the difference between != and <>? In the turtorials, I think they are all mean not euqal to. \n",
        "\n",
        "Also can we have a more revelent example for when the boolean object will use in real-life data analysis?  I feel like the example in the turtorial is not very clear. \n"
      ]
    }
  ]
}